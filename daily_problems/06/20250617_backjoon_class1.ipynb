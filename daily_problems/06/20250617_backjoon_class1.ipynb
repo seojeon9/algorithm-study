{
 "cells": [
  {
   "cell_type": "markdown",
   "id": "aedf9020",
   "metadata": {},
   "source": [
    "### 백준 스타일 문제 입력 방식"
   ]
  },
  {
   "cell_type": "markdown",
   "id": "68301974",
   "metadata": {},
   "source": [
    "- 사용자 입력"
   ]
  },
  {
   "cell_type": "code",
   "execution_count": null,
   "id": "36460af3",
   "metadata": {},
   "outputs": [],
   "source": [
    "a,b = map(int, input().split())\n",
    "\n",
    "arr = []\n",
    "\n",
    "for _ in range(m): # m번 loop을 돌면서 input을 arr에 append\n",
    "\tarr.append(list(map(int, input().split())))"
   ]
  },
  {
   "cell_type": "markdown",
   "id": "7dd25500",
   "metadata": {},
   "source": [
    "- 파일 입력"
   ]
  },
  {
   "cell_type": "code",
   "execution_count": null,
   "id": "9ccacc88",
   "metadata": {},
   "outputs": [],
   "source": [
    "import sys\n",
    "\n",
    "# 표준 입력을 파일로 설정하기 -> input.txt를 읽어들여옴\n",
    "sys.stdin = open(\"input_21924.txt\", \"r\")\n",
    "\n",
    "# 표준 입력을 파일로 바꿨으므로,\n",
    "# input() 함수는 더이상 사용자 입력을 받지 않고, 지정된 입력 파일을 읽게 됨.\n",
    "n,m = map(int, input().split())\n",
    "\n",
    "# list comprehension을 이용해 이후의 입력값을 받아옴\n",
    "arr = [list(map(int, input().split())) for _ in range(m)]"
   ]
  },
  {
   "cell_type": "markdown",
   "id": "9d251527",
   "metadata": {},
   "source": [
    "- 조금 더 빠른 형식"
   ]
  },
  {
   "cell_type": "code",
   "execution_count": null,
   "id": "75415cfe",
   "metadata": {},
   "outputs": [],
   "source": [
    "import sys\n",
    "\n",
    "n,m = map(int, sys.stdin.readline().split())\n",
    "arr = [list(map(int, sys.stdin.readline().split())) for _ in range(m)]"
   ]
  },
  {
   "cell_type": "markdown",
   "id": "732ae482",
   "metadata": {},
   "source": [
    "### CLASS 1"
   ]
  },
  {
   "cell_type": "markdown",
   "id": "3f3472a4",
   "metadata": {},
   "source": [
    "- 문제 번호: 1000\n",
    "- 문제 링크: https://www.acmicpc.net/problem/1000\n",
    "- 풀이 시간: 7분\n",
    "- 시도 횟수: 3회\n",
    "- 한줄 평: 오.. 백준 너무 오랜만이라서 입력 받는거부터 시작이라는걸 잊었었다//\n",
    "\n",
    "*A+B*\n",
    "```\n",
    "두 정수 A와 B를 입력받은 다음, A+B를 출력하는 프로그램을 작성하시오.\n",
    "```"
   ]
  },
  {
   "cell_type": "code",
   "execution_count": null,
   "id": "0a920784",
   "metadata": {},
   "outputs": [
    {
     "name": "stdout",
     "output_type": "stream",
     "text": [
      "6\n"
     ]
    }
   ],
   "source": [
    "a,b = map(int, input().split())\n",
    "print(a+b)"
   ]
  },
  {
   "cell_type": "markdown",
   "id": "322ae65c",
   "metadata": {},
   "source": [
    "- 문제 번호: 1008\n",
    "- 문제 링크: https://www.acmicpc.net/problem/1008\n",
    "- 풀이 시간: 3초\n",
    "- 시도 횟수: 1회\n",
    "- 한줄 평: 쏘이지\n",
    "\n",
    "*A/B*\n",
    "```\n",
    "두 정수 A와 B를 입력받은 다음, A/B를 출력하는 프로그램을 작성하시오.\n",
    "```"
   ]
  },
  {
   "cell_type": "code",
   "execution_count": null,
   "id": "b3d299c9",
   "metadata": {},
   "outputs": [],
   "source": [
    "a,b = map(int, input().split())\n",
    "print(a/b)"
   ]
  },
  {
   "cell_type": "markdown",
   "id": "12cd4bde",
   "metadata": {},
   "source": [
    "- 문제 번호: 1330\n",
    "- 문제 링크: https://www.acmicpc.net/problem/1330\n",
    "- 풀이 시간: 3분\n",
    "- 시도 횟수: 1회\n",
    "- 한줄 평: 뭔가 간단한 조건들을 비교할 때, 뭐면 뭐, 뭐면 뭐 하는 한줄 수식?연산자? 같은게 있었던거 같아서, 찾아보느라 시간이 흘렀는데 결과는 못찾았다. 나중에 시간나면 C언어 기초 교습서를 좀 찾아봐야겠다.\n",
    "\n",
    "*두 수 비교하기*\n",
    "```\n",
    "두 정수 A와 B가 주어졌을 때, A와 B를 비교하는 프로그램을 작성하시오.\n",
    "\n",
    "첫째 줄에 다음 세 가지 중 하나를 출력한다.\n",
    "\n",
    "A가 B보다 큰 경우에는 '>'를 출력한다.\n",
    "A가 B보다 작은 경우에는 '<'를 출력한다.\n",
    "A와 B가 같은 경우에는 '=='를 출력한다.\n",
    "```"
   ]
  },
  {
   "cell_type": "code",
   "execution_count": null,
   "id": "7e6622dc",
   "metadata": {},
   "outputs": [],
   "source": [
    "a,b = map(int, input().split())\n",
    "if a > b:\n",
    "    print('>')\n",
    "elif a < b:\n",
    "    print('<')\n",
    "else:\n",
    "    print('==')"
   ]
  },
  {
   "cell_type": "markdown",
   "id": "69a20ef3",
   "metadata": {},
   "source": [
    "- 문제 번호: 2438\n",
    "- 문제 링크: https://www.acmicpc.net/problem/2438\n",
    "- 풀이 시간: 3분\n",
    "- 시도 횟수: 1회\n",
    "- 한줄 평: 귀엽다.\n",
    "\n",
    "*별 찍기 - 1*\n",
    "```\n",
    "첫째 줄에는 별 1개, 둘째 줄에는 별 2개, N번째 줄에는 별 N개를 찍는 문제\n",
    "```"
   ]
  },
  {
   "cell_type": "code",
   "execution_count": 8,
   "id": "ecf5bca6",
   "metadata": {},
   "outputs": [
    {
     "name": "stdout",
     "output_type": "stream",
     "text": [
      "*\n",
      "**\n",
      "***\n",
      "****\n",
      "*****\n"
     ]
    }
   ],
   "source": [
    "n = int(input())\n",
    "for i in range(n):\n",
    "    print('*'*(i+1))"
   ]
  },
  {
   "cell_type": "markdown",
   "id": "03c4c0b2",
   "metadata": {},
   "source": [
    "- 문제 번호: 2438\n",
    "- 문제 링크: https://www.acmicpc.net/problem/2438\n",
    "- 풀이 시간: 8분\n",
    "- 시도 횟수: 1회\n",
    "- 한줄 평: 제곱 연산자는 ** (a**2), 나머지 연산자는 %, 몫은 //\n",
    "\n",
    "*검증수*\n",
    "```\n",
    "컴퓨터를 제조하는 회사인 KOI 전자에서는 제조하는 컴퓨터마다 6자리의 고유번호를 매긴다. 고유번호의 처음 5자리에는 00000부터 99999까지의 수 중 하나가 주어지며 6번째 자리에는 검증수가 들어간다. 검증수는 고유번호의 처음 5자리에 들어가는 5개의 숫자를 각각 제곱한 수의 합을 10으로 나눈 나머지이다.\n",
    "\n",
    "예를 들어 고유번호의 처음 5자리의 숫자들이 04256이면, 각 숫자를 제곱한 수들의 합 0+16+4+25+36 = 81 을 10으로 나눈 나머지인 1이 검증수이다.\n",
    "```\n",
    "\n",
    "*입력*\n",
    "- 첫째 줄에 고유번호의 처음 5자리의 숫자들이 빈칸을 사이에 두고 하나씩 주어진다.\n",
    "\n",
    "예제 입력\n",
    "```0 4 2 5 6```\n",
    "예제 출력\n",
    "```1```"
   ]
  },
  {
   "cell_type": "code",
   "execution_count": null,
   "id": "8443d879",
   "metadata": {},
   "outputs": [
    {
     "name": "stdout",
     "output_type": "stream",
     "text": [
      "81\n",
      "1\n"
     ]
    }
   ],
   "source": [
    "arr = (map(int, input().split()))\n",
    "\n",
    "sum = 0\n",
    "for a in arr:\n",
    "    sum += a**2\n",
    "\n",
    "print(sum%10)\n"
   ]
  },
  {
   "cell_type": "code",
   "execution_count": null,
   "id": "3c2c367b",
   "metadata": {},
   "outputs": [],
   "source": []
  }
 ],
 "metadata": {
  "kernelspec": {
   "display_name": "base",
   "language": "python",
   "name": "python3"
  },
  "language_info": {
   "codemirror_mode": {
    "name": "ipython",
    "version": 3
   },
   "file_extension": ".py",
   "mimetype": "text/x-python",
   "name": "python",
   "nbconvert_exporter": "python",
   "pygments_lexer": "ipython3",
   "version": "3.9.13"
  }
 },
 "nbformat": 4,
 "nbformat_minor": 5
}
